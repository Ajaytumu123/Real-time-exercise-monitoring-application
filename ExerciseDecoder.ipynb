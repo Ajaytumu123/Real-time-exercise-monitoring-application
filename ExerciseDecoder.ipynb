{
 "cells": [
  {
   "cell_type": "markdown",
   "id": "d602e75d",
   "metadata": {},
   "source": [
    "# 0. Import Dependencies"
   ]
  },
  {
   "cell_type": "code",
   "execution_count": 67,
   "id": "2d97e5ec",
   "metadata": {},
   "outputs": [],
   "source": [
    "import cv2\n",
    "import numpy as np\n",
    "import os\n",
    "from matplotlib import pyplot as plt\n",
    "import time\n",
    "import mediapipe as mp\n",
    "import tensorflow as tf\n",
    "import math\n",
    "\n",
    "from sklearn.model_selection import train_test_split\n",
    "from sklearn.metrics import multilabel_confusion_matrix, accuracy_score, classification_report\n",
    "from tensorflow.keras.utils import to_categorical\n",
    "\n",
    "import tensorflow as tf\n",
    "from tensorflow.keras import backend as K\n",
    "from tensorflow.keras.callbacks import TensorBoard, EarlyStopping, ReduceLROnPlateau, ModelCheckpoint\n",
    "\n",
    "from tensorflow.keras.models import Sequential, Model\n",
    "\n",
    "from tensorflow.keras.layers import (LSTM, Dense, Concatenate, Attention, Dropout, Softmax,\n",
    "                                     Input, Flatten, Activation, Bidirectional, Permute, multiply, \n",
    "                                     ConvLSTM2D, MaxPooling3D, TimeDistributed, Conv2D, MaxPooling2D)\n",
    "\n",
    "from scipy import stats\n",
    "\n",
    "# disable some of the tf/keras training warnings \n",
    "os.environ['TF_CPP_MIN_LOG_LEVEL'] = \"3\"\n",
    "tf.get_logger().setLevel(\"ERROR\")\n",
    "tf.autograph.set_verbosity(1)\n",
    "\n",
    "# suppress untraced functions warning\n",
    "import absl.logging\n",
    "absl.logging.set_verbosity(absl.logging.ERROR)"
   ]
  },
  {
   "cell_type": "markdown",
   "id": "55f470e2",
   "metadata": {},
   "source": [
    "# 1. Keypoints using MP Pose"
   ]
  },
  {
   "cell_type": "code",
   "execution_count": 71,
   "id": "20cde117",
   "metadata": {},
   "outputs": [],
   "source": [
    "# Pre-trained pose estimation model from Google Mediapipe\n",
    "\n",
    "mp_pose = mp.solutions.pose\n",
    "mp_drawing = mp.solutions.drawing_utils"
   ]
  },
  {
   "cell_type": "code",
   "execution_count": 72,
   "id": "716e9f8e",
   "metadata": {},
   "outputs": [],
   "source": [
    "def mediapipe_detection(image, model):\n",
    "    \"\"\"\n",
    "    This function detects human pose estimation keypoints from webcam footage\n",
    "    \n",
    "    \"\"\"\n",
    "    image = cv2.cvtColor(image, cv2.COLOR_BGR2RGB) # COLOR CONVERSION BGR 2 RGB\n",
    "    image.flags.writeable = False                  # Image is no longer writeable\n",
    "    results = model.process(image)                 # Make prediction\n",
    "    image.flags.writeable = True                   # Image is now writeable \n",
    "    image = cv2.cvtColor(image, cv2.COLOR_RGB2BGR) # COLOR COVERSION RGB 2 BGR\n",
    "    return image, results"
   ]
  },
  {
   "cell_type": "code",
   "execution_count": 73,
   "id": "9bd7ba58",
   "metadata": {},
   "outputs": [],
   "source": [
    "def draw_landmarks(image, results):\n",
    "    \"\"\"\n",
    "    This function draws keypoints and landmarks detected by the human pose estimation model\n",
    "    \n",
    "    \"\"\"\n",
    "    mp_drawing.draw_landmarks(image, results.pose_landmarks, mp_pose.POSE_CONNECTIONS,\n",
    "                                mp_drawing.DrawingSpec(color=(245,117,66), thickness=2, circle_radius=2), \n",
    "                                mp_drawing.DrawingSpec(color=(245,66,230), thickness=2, circle_radius=2) \n",
    "                                 )"
   ]
  },
  {
   "cell_type": "code",
   "execution_count": 5,
   "id": "c0ebe952",
   "metadata": {},
   "outputs": [
    {
     "name": "stderr",
     "output_type": "stream",
     "text": [
      "INFO: Created TensorFlow Lite XNNPACK delegate for CPU.\n"
     ]
    }
   ],
   "source": [
    "cap = cv2.VideoCapture(0) # camera object\n",
    "HEIGHT = int(cap.get(cv2.CAP_PROP_FRAME_HEIGHT)) # webcam video frame height\n",
    "WIDTH = int(cap.get(cv2.CAP_PROP_FRAME_WIDTH)) # webcam video frame width\n",
    "FPS = int(cap.get(cv2.CAP_PROP_FPS)) # webcam video fram rate \n",
    "\n",
    "# Set and test mediapipe model using webcam\n",
    "with mp_pose.Pose(min_detection_confidence=0.5, min_tracking_confidence=0.5) as pose:\n",
    "    while cap.isOpened():\n",
    "\n",
    "        #Read feed\n",
    "        ret, frame = cap.read()   \n",
    "        # Make detection\n",
    "        image, results = mediapipe_detection(frame, pose)\n",
    "        \n",
    "        #Extract landmarks\n",
    "        try:\n",
    "            landmarks = results.pose_landmarks.landmark\n",
    "        except:\n",
    "            pass\n",
    "        \n",
    "        # Render detections\n",
    "        draw_landmarks(image, results)               \n",
    "        \n",
    "        # Display frame on screen\n",
    "        cv2.imshow('OpenCV Feed', image)\n",
    "        \n",
    "        # Exit / break out logic\n",
    "        if cv2.waitKey(10) & 0xFF == ord('q'):\n",
    "            break\n",
    "\n",
    "    cap.release()\n",
    "    cv2.destroyAllWindows()"
   ]
  },
  {
   "cell_type": "markdown",
   "id": "f9fb32f3",
   "metadata": {},
   "source": [
    "# 2. Extract Keypoints"
   ]
  },
  {
   "cell_type": "code",
   "execution_count": 74,
   "id": "a81823f6",
   "metadata": {},
   "outputs": [],
   "source": [
    "# Recollect and organize keypoints from the test\n",
    "pose = []\n",
    "for res in results.pose_landmarks.landmark:\n",
    "    test = np.array([res.x, res.y, res.z, res.visibility])\n",
    "    pose.append(test)"
   ]
  },
  {
   "cell_type": "code",
   "execution_count": 75,
   "id": "cd92eee3",
   "metadata": {},
   "outputs": [
    {
     "name": "stdout",
     "output_type": "stream",
     "text": [
      "33 4 132\n"
     ]
    }
   ],
   "source": [
    "# 33 landmarks with 4 values (x, y, z, visibility)\n",
    "num_landmarks = len(landmarks)\n",
    "num_values = len(test)\n",
    "num_input_values = num_landmarks*num_values\n",
    "print(num_landmarks,num_values,num_input_values)"
   ]
  },
  {
   "cell_type": "code",
   "execution_count": 57,
   "id": "9dad5b8c",
   "metadata": {},
   "outputs": [],
   "source": [
    "### This is an example of what we would use as an input into our AI models\n",
    "#pose = np.array([[res.x, res.y, res.z, res.visibility] for res in results.pose_landmarks.landmark]).flatten() if results.pose_landmarks else np.zeros(33*4)"
   ]
  },
  {
   "cell_type": "code",
   "execution_count": 76,
   "id": "6f4d1079",
   "metadata": {},
   "outputs": [],
   "source": [
    "def extract_keypoints(results):\n",
    "    \"\"\"\n",
    "    Processes and organizes the keypoints detected from the pose estimation model \n",
    "    to be used as inputs for the exercise decoder models\n",
    "    \n",
    "    \"\"\"\n",
    "    pose = np.array([[res.x, res.y, res.z, res.visibility] for res in results.pose_landmarks.landmark]).flatten() if results.pose_landmarks else np.zeros(33*4)\n",
    "    return pose"
   ]
  },
  {
   "cell_type": "markdown",
   "id": "03b907e8",
   "metadata": {},
   "source": [
    "# 3. Setup Folders for Collection"
   ]
  },
  {
   "cell_type": "code",
   "execution_count": 78,
   "id": "ddcaecfd",
   "metadata": {},
   "outputs": [
    {
     "name": "stdout",
     "output_type": "stream",
     "text": [
      "/Users/tsaiajay/Desktop/CP575/Exercise_Recognition_AI-main/data\n"
     ]
    }
   ],
   "source": [
    "#### RUN THIS WHEN USING PRE EXISTING DATA\n",
    "\n",
    "# Path for exported data, numpy arrays\n",
    "DATA_PATH = os.path.join(os. getcwd(),'data') \n",
    "print(DATA_PATH)\n",
    "\n",
    "# make directory if it does not exist yet\n",
    "if not os.path.exists(DATA_PATH):\n",
    "    os.makedirs(DATA_PATH)\n",
    "\n",
    "# Actions/exercises that we try to detect\n",
    "actions = np.array(['curl','press','squat','butbrdige','leglift'])\n",
    "colors = [(245,117,16), (117,245,16),(16,117,245),(127, 0, 255),(255, 255, 0)]\n",
    "num_classes = len(actions)\n",
    "\n",
    "# How many videos worth of data\n",
    "no_sequences = 1\n",
    "\n",
    "# Videos are going to be this many frames in length\n",
    "sequence_length = FPS*1\n",
    "\n",
    "# Folder start\n",
    "# Change this to collect more data and not lose previously collected data\n",
    "start_folder = 1"
   ]
  },
  {
   "cell_type": "code",
   "execution_count": 62,
   "id": "ee0f9248",
   "metadata": {},
   "outputs": [
    {
     "name": "stdout",
     "output_type": "stream",
     "text": [
      "/Users/tsaiajay/Desktop/CP575/Exercise_Recognition_AI-main/data\n"
     ]
    }
   ],
   "source": [
    "#DONT RUN THIS IF YOU RUN THE ABOVE CELL\n",
    "\n",
    "##### RUN THIS when NEED TO ADD NEW EXCERSICE OR NEW DAta\n",
    "\n",
    "DATA_PATH = os.path.join(os. getcwd(),'data') \n",
    "print(DATA_PATH)\n",
    "\n",
    "# make directory if it does not exist yet\n",
    "if not os.path.exists(DATA_PATH):\n",
    "    os.makedirs(DATA_PATH)\n",
    "\n",
    "# Actions/exercises that we try to detect\n",
    "actions = np.array(['butbrdige'])\n",
    "colors =[(127, 0, 255)]\n",
    "num_classes = len(actions)\n",
    "\n",
    "# How many videos worth of data\n",
    "no_sequences = 1\n",
    "\n",
    "# Videos are going to be this many frames in length\n",
    "sequence_length = FPS*1\n",
    "\n",
    "# Folder start\n",
    "# Change this to collect more data and not lose previously collected data\n",
    "start_folder = 120"
   ]
  },
  {
   "cell_type": "code",
   "execution_count": 63,
   "id": "fed6b275",
   "metadata": {},
   "outputs": [],
   "source": [
    "#DONT RUN IF YOU HAVE DATA EXISTS\n",
    "\n",
    "#RUN IF YOU NEED TO GET MORE data\n",
    "\n",
    "# Build folder paths\n",
    "for action in actions:     \n",
    "    for sequence in range(start_folder,no_sequences+start_folder):\n",
    "        try: \n",
    "            os.makedirs(os.path.join(DATA_PATH, action, str(sequence)))  \n",
    "        except:\n",
    "            pass"
   ]
  },
  {
   "cell_type": "markdown",
   "id": "7622b573",
   "metadata": {},
   "source": [
    "# 4. Collect Keypoint Values for Training and Testing"
   ]
  },
  {
   "cell_type": "code",
   "execution_count": 65,
   "id": "41b81490",
   "metadata": {},
   "outputs": [],
   "source": [
    "#DONT RUN IF YOU ALREADY HAVE DATA \n",
    "\n",
    "# Collect Training Data\n",
    "\n",
    "cap = cv2.VideoCapture(0)\n",
    "# Set mediapipe model \n",
    "with mp_pose.Pose(min_detection_confidence=0.6, min_tracking_confidence=0.6) as pose:\n",
    "    # Loop through actions\n",
    "    for idx, action in enumerate(actions):\n",
    "        # Loop through sequences (i.e., videos)\n",
    "        for sequence in range(start_folder, start_folder+no_sequences):\n",
    "            # Loop through video length (i.e, sequence length)\n",
    "            for frame_num in range(sequence_length):\n",
    "                # Read feed\n",
    "                ret, frame = cap.read()\n",
    "                \n",
    "                # Make detection\n",
    "                image, results = mediapipe_detection(frame, pose)\n",
    "\n",
    "                # Extract landmarks\n",
    "                try:\n",
    "                    landmarks = results.pose_landmarks.landmark\n",
    "                except:\n",
    "                    print(\"INTO EXCEPT\")\n",
    "                    pass\n",
    "                \n",
    "                # Render detections\n",
    "                draw_landmarks(image, results) \n",
    "                \n",
    "                # Apply visualization logic\n",
    "                if frame_num == 0: # If first frame in sequence, print that you're starting a new data collection and wait 500 ms\n",
    "                    cv2.putText(image, 'STARTING COLLECTION', (120,200), \n",
    "                            cv2.FONT_HERSHEY_SIMPLEX, 1, (0,255, 0), 4, cv2.LINE_AA)\n",
    "                    \n",
    "                    cv2.putText(image, 'Collecting {} Video # {}'.format(action, sequence), (15,30), \n",
    "                            cv2.FONT_HERSHEY_SIMPLEX, 1, (255, 255, 255), 8, cv2.LINE_AA)\n",
    "                    cv2.putText(image, 'Collecting {} Video # {}'.format(action, sequence), (15,30), \n",
    "                            cv2.FONT_HERSHEY_SIMPLEX, 1, colors[idx], 4, cv2.LINE_AA)\n",
    "                    \n",
    "                    # Show to screen\n",
    "                    cv2.imshow('OpenCV Feed', image)\n",
    "                    cv2.waitKey(800)\n",
    "                else: \n",
    "                    cv2.putText(image, 'Collecting {} Video # {}'.format(action, sequence), (15,30), \n",
    "                            cv2.FONT_HERSHEY_SIMPLEX, 1, (255, 255, 255), 8, cv2.LINE_AA)\n",
    "                    cv2.putText(image, 'Collecting {} Video # {}'.format(action, sequence), (15,30), \n",
    "                            cv2.FONT_HERSHEY_SIMPLEX, 1, colors[idx], 4, cv2.LINE_AA)\n",
    "                    \n",
    "                    # Show to screen\n",
    "                    cv2.imshow('OpenCV Feed', image)\n",
    "\n",
    "                # Export keypoints (sequence + pose landmarks)\n",
    "                keypoints = extract_keypoints(results)\n",
    "                npy_path = os.path.join(DATA_PATH, action, str(sequence), str(frame_num))\n",
    "                np.save(npy_path, keypoints)\n",
    "\n",
    "                # Break gracefully\n",
    "                if cv2.waitKey(10) & 0xFF == ord('q'):\n",
    "                    break\n",
    "                    \n",
    "    cap.release()\n",
    "    cv2.destroyAllWindows()"
   ]
  },
  {
   "cell_type": "code",
   "execution_count": 66,
   "id": "4b016129",
   "metadata": {},
   "outputs": [],
   "source": [
    "cap.release()\n",
    "cv2.destroyAllWindows()"
   ]
  },
  {
   "cell_type": "markdown",
   "id": "d01ec993",
   "metadata": {},
   "source": [
    "# 5. Preprocess Data and Create Labels/Features"
   ]
  },
  {
   "cell_type": "code",
   "execution_count": 80,
   "id": "cad528c8",
   "metadata": {},
   "outputs": [],
   "source": [
    "label_map = {label:num for num, label in enumerate(actions)}"
   ]
  },
  {
   "cell_type": "code",
   "execution_count": 81,
   "id": "a0add3fb",
   "metadata": {},
   "outputs": [],
   "source": [
    "sequences, labels = [], []\n",
    "for action in actions:\n",
    "    for sequence in os.listdir(os.path.join(DATA_PATH, action)):\n",
    "        # Check if the file is a directory and not a hidden file\n",
    "        if os.path.isdir(os.path.join(DATA_PATH, action, sequence)) and not sequence.startswith('.'):\n",
    "            window = []\n",
    "            for frame_num in range(sequence_length):\n",
    "                # LSTM input data\n",
    "                res = np.load(os.path.join(DATA_PATH, action, sequence, \"{}.npy\".format(frame_num)))\n",
    "                window.append(res)\n",
    "                \n",
    "            sequences.append(window)\n",
    "            labels.append(label_map[action])"
   ]
  },
  {
   "cell_type": "code",
   "execution_count": 82,
   "id": "ab459ce4",
   "metadata": {},
   "outputs": [
    {
     "name": "stdout",
     "output_type": "stream",
     "text": [
      "(585, 29, 132) (585, 5)\n"
     ]
    }
   ],
   "source": [
    "# Make sure first dimensions of arrays match\n",
    "X = np.array(sequences)\n",
    "y = to_categorical(labels).astype(int)\n",
    "print(X.shape, y.shape)"
   ]
  },
  {
   "cell_type": "code",
   "execution_count": 83,
   "id": "5ac49993",
   "metadata": {},
   "outputs": [
    {
     "name": "stdout",
     "output_type": "stream",
     "text": [
      "(526, 29, 132) (526, 5)\n"
     ]
    }
   ],
   "source": [
    "# Split into training, validation, and testing datasets\n",
    "X_train, X_test, y_train, y_test = train_test_split(X, y, test_size=0.10, random_state=1)\n",
    "print(X_train.shape, y_train.shape)\n",
    "X_train, X_val, y_train, y_val = train_test_split(X_train, y_train, test_size=15/90, random_state=2)"
   ]
  },
  {
   "cell_type": "markdown",
   "id": "e53ae03d",
   "metadata": {},
   "source": [
    "# 6. Build and Train Neural Networks"
   ]
  },
  {
   "cell_type": "code",
   "execution_count": 84,
   "id": "912f3153",
   "metadata": {},
   "outputs": [],
   "source": [
    "# Callbacks to be used during neural network training \n",
    "es_callback = EarlyStopping(monitor='val_loss', min_delta=5e-4, patience=10, verbose=0, mode='min')\n",
    "lr_callback = ReduceLROnPlateau(monitor='val_loss', factor=0.2, patience=5, min_lr=0.00001, verbose=0, mode='min')\n",
    "chkpt_callback = ModelCheckpoint(filepath=DATA_PATH, monitor='val_loss', verbose=0, save_best_only=True, \n",
    "                                 save_weights_only=False, mode='min', save_freq=1)\n",
    "\n",
    "# Optimizer\n",
    "#opt = tf.keras.optimizers.Adam(learning_rate=0.01)\n",
    "opt = tf.keras.optimizers.legacy.Adam(learning_rate=0.01)\n",
    "\n",
    "\n",
    "# some hyperparamters\n",
    "batch_size = 32\n",
    "max_epochs = 500"
   ]
  },
  {
   "cell_type": "markdown",
   "id": "c1ca0cad",
   "metadata": {},
   "source": [
    "## 6a. LSTM"
   ]
  },
  {
   "cell_type": "code",
   "execution_count": 85,
   "id": "730f987b",
   "metadata": {},
   "outputs": [],
   "source": [
    "# Set up Tensorboard logging and callbacks\n",
    "NAME = f\"ExerciseRecognition-LSTM-{int(time.time())}\"\n",
    "log_dir = os.path.join(os.getcwd(), 'logs', NAME,'')\n",
    "tb_callback = TensorBoard(log_dir=log_dir)\n",
    "\n",
    "callbacks = [tb_callback, es_callback, lr_callback, chkpt_callback]"
   ]
  },
  {
   "cell_type": "code",
   "execution_count": 86,
   "id": "ae7595c1",
   "metadata": {},
   "outputs": [
    {
     "name": "stdout",
     "output_type": "stream",
     "text": [
      "5\n",
      "Model: \"sequential\"\n",
      "_________________________________________________________________\n",
      " Layer (type)                Output Shape              Param #   \n",
      "=================================================================\n",
      " lstm (LSTM)                 (None, 29, 128)           133632    \n",
      "                                                                 \n",
      " lstm_1 (LSTM)               (None, 29, 256)           394240    \n",
      "                                                                 \n",
      " lstm_2 (LSTM)               (None, 128)               197120    \n",
      "                                                                 \n",
      " dense (Dense)               (None, 128)               16512     \n",
      "                                                                 \n",
      " dense_1 (Dense)             (None, 64)                8256      \n",
      "                                                                 \n",
      " dense_2 (Dense)             (None, 5)                 325       \n",
      "                                                                 \n",
      "=================================================================\n",
      "Total params: 750085 (2.86 MB)\n",
      "Trainable params: 750085 (2.86 MB)\n",
      "Non-trainable params: 0 (0.00 Byte)\n",
      "_________________________________________________________________\n",
      "None\n"
     ]
    }
   ],
   "source": [
    "lstm = Sequential()\n",
    "lstm.add(LSTM(128, return_sequences=True, activation='relu', input_shape=(sequence_length, num_input_values)))\n",
    "lstm.add(LSTM(256, return_sequences=True, activation='relu'))\n",
    "lstm.add(LSTM(128, return_sequences=False, activation='relu'))\n",
    "lstm.add(Dense(128, activation='relu'))\n",
    "lstm.add(Dense(64, activation='relu'))\n",
    "lstm.add(Dense(actions.shape[0], activation='softmax'))\n",
    "print(actions.shape[0])\n",
    "print(lstm.summary())"
   ]
  },
  {
   "cell_type": "code",
   "execution_count": 87,
   "id": "8a10e698",
   "metadata": {},
   "outputs": [
    {
     "name": "stdout",
     "output_type": "stream",
     "text": [
      "Epoch 1/500\n",
      "14/14 [==============================] - 6s 160ms/step - loss: 3496120.0000 - categorical_accuracy: 0.1872 - val_loss: 33031.3867 - val_categorical_accuracy: 0.1705 - lr: 0.0100\n",
      "Epoch 2/500\n",
      "14/14 [==============================] - 1s 103ms/step - loss: 4624.3062 - categorical_accuracy: 0.2192 - val_loss: 1663.7532 - val_categorical_accuracy: 0.2614 - lr: 0.0100\n",
      "Epoch 3/500\n",
      "14/14 [==============================] - 1s 105ms/step - loss: 497.6345 - categorical_accuracy: 0.1712 - val_loss: 136.5656 - val_categorical_accuracy: 0.2045 - lr: 0.0100\n",
      "Epoch 4/500\n",
      "14/14 [==============================] - 1s 104ms/step - loss: 63.0858 - categorical_accuracy: 0.2534 - val_loss: 77.4944 - val_categorical_accuracy: 0.3409 - lr: 0.0100\n",
      "Epoch 5/500\n",
      "14/14 [==============================] - 2s 112ms/step - loss: 35.5240 - categorical_accuracy: 0.3904 - val_loss: 23.0392 - val_categorical_accuracy: 0.4318 - lr: 0.0100\n",
      "Epoch 6/500\n",
      "14/14 [==============================] - 1s 105ms/step - loss: 17.2620 - categorical_accuracy: 0.3995 - val_loss: 12.0583 - val_categorical_accuracy: 0.4318 - lr: 0.0100\n",
      "Epoch 7/500\n",
      "14/14 [==============================] - 1s 107ms/step - loss: 8.8112 - categorical_accuracy: 0.3950 - val_loss: 10.2199 - val_categorical_accuracy: 0.3182 - lr: 0.0100\n",
      "Epoch 8/500\n",
      "14/14 [==============================] - 1s 104ms/step - loss: 10.0891 - categorical_accuracy: 0.4201 - val_loss: 7.1167 - val_categorical_accuracy: 0.4432 - lr: 0.0100\n",
      "Epoch 9/500\n",
      "14/14 [==============================] - 2s 110ms/step - loss: 4.8678 - categorical_accuracy: 0.4840 - val_loss: 8.4583 - val_categorical_accuracy: 0.4659 - lr: 0.0100\n",
      "Epoch 10/500\n",
      "14/14 [==============================] - 2s 116ms/step - loss: 7.5165 - categorical_accuracy: 0.4155 - val_loss: 10.4426 - val_categorical_accuracy: 0.4091 - lr: 0.0100\n",
      "Epoch 11/500\n",
      "14/14 [==============================] - 1s 105ms/step - loss: 8.7381 - categorical_accuracy: 0.4064 - val_loss: 10.2956 - val_categorical_accuracy: 0.3409 - lr: 0.0100\n",
      "Epoch 12/500\n",
      "14/14 [==============================] - 1s 105ms/step - loss: 13.2919 - categorical_accuracy: 0.4292 - val_loss: 11.7517 - val_categorical_accuracy: 0.3977 - lr: 0.0100\n",
      "Epoch 13/500\n",
      "14/14 [==============================] - 2s 114ms/step - loss: 7.6245 - categorical_accuracy: 0.4452 - val_loss: 5.0486 - val_categorical_accuracy: 0.4545 - lr: 0.0100\n",
      "Epoch 14/500\n",
      "14/14 [==============================] - 2s 108ms/step - loss: 5.6350 - categorical_accuracy: 0.5342 - val_loss: 4.5798 - val_categorical_accuracy: 0.5795 - lr: 0.0100\n",
      "Epoch 15/500\n",
      "14/14 [==============================] - 1s 107ms/step - loss: 6.9237 - categorical_accuracy: 0.4795 - val_loss: 7.8240 - val_categorical_accuracy: 0.4773 - lr: 0.0100\n",
      "Epoch 16/500\n",
      "14/14 [==============================] - 2s 108ms/step - loss: 7.0501 - categorical_accuracy: 0.4132 - val_loss: 6.7676 - val_categorical_accuracy: 0.4659 - lr: 0.0100\n",
      "Epoch 17/500\n",
      "14/14 [==============================] - 1s 104ms/step - loss: 3.9287 - categorical_accuracy: 0.4406 - val_loss: 2.5672 - val_categorical_accuracy: 0.5227 - lr: 0.0100\n",
      "Epoch 18/500\n",
      "14/14 [==============================] - 1s 105ms/step - loss: 5.2779 - categorical_accuracy: 0.3995 - val_loss: 12.9106 - val_categorical_accuracy: 0.3750 - lr: 0.0100\n",
      "Epoch 19/500\n",
      "14/14 [==============================] - 1s 104ms/step - loss: 7.6136 - categorical_accuracy: 0.4452 - val_loss: 4.9007 - val_categorical_accuracy: 0.2273 - lr: 0.0100\n",
      "Epoch 20/500\n",
      "14/14 [==============================] - 1s 106ms/step - loss: 5.2489 - categorical_accuracy: 0.4201 - val_loss: 3.7285 - val_categorical_accuracy: 0.4432 - lr: 0.0100\n",
      "Epoch 21/500\n",
      "14/14 [==============================] - 2s 123ms/step - loss: 3.6946 - categorical_accuracy: 0.4452 - val_loss: 5.4046 - val_categorical_accuracy: 0.3977 - lr: 0.0100\n",
      "Epoch 22/500\n",
      "14/14 [==============================] - 2s 108ms/step - loss: 4.0879 - categorical_accuracy: 0.4064 - val_loss: 4.9648 - val_categorical_accuracy: 0.3864 - lr: 0.0100\n",
      "Epoch 23/500\n",
      "14/14 [==============================] - 1s 107ms/step - loss: 3.5516 - categorical_accuracy: 0.4703 - val_loss: 2.4999 - val_categorical_accuracy: 0.5795 - lr: 0.0020\n",
      "Epoch 24/500\n",
      "14/14 [==============================] - 1s 107ms/step - loss: 2.1480 - categorical_accuracy: 0.5388 - val_loss: 1.3416 - val_categorical_accuracy: 0.6705 - lr: 0.0020\n",
      "Epoch 25/500\n",
      "14/14 [==============================] - 1s 107ms/step - loss: 1.5463 - categorical_accuracy: 0.5890 - val_loss: 1.6108 - val_categorical_accuracy: 0.4318 - lr: 0.0020\n",
      "Epoch 26/500\n",
      "14/14 [==============================] - 2s 120ms/step - loss: 1.1927 - categorical_accuracy: 0.6119 - val_loss: 1.8812 - val_categorical_accuracy: 0.5455 - lr: 0.0020\n",
      "Epoch 27/500\n",
      "14/14 [==============================] - 1s 107ms/step - loss: 1.3180 - categorical_accuracy: 0.6050 - val_loss: 1.4140 - val_categorical_accuracy: 0.7273 - lr: 0.0020\n",
      "Epoch 28/500\n",
      "14/14 [==============================] - 2s 108ms/step - loss: 1.3379 - categorical_accuracy: 0.6027 - val_loss: 1.3497 - val_categorical_accuracy: 0.6591 - lr: 0.0020\n",
      "Epoch 29/500\n",
      "14/14 [==============================] - 2s 122ms/step - loss: 1.2164 - categorical_accuracy: 0.6027 - val_loss: 2.1277 - val_categorical_accuracy: 0.3750 - lr: 0.0020\n",
      "Epoch 30/500\n",
      "14/14 [==============================] - 1s 106ms/step - loss: 1.0827 - categorical_accuracy: 0.6438 - val_loss: 1.3206 - val_categorical_accuracy: 0.6591 - lr: 4.0000e-04\n",
      "Epoch 31/500\n",
      "14/14 [==============================] - 1s 106ms/step - loss: 1.0590 - categorical_accuracy: 0.6621 - val_loss: 1.3291 - val_categorical_accuracy: 0.6023 - lr: 4.0000e-04\n",
      "Epoch 32/500\n",
      "14/14 [==============================] - 2s 127ms/step - loss: 1.0477 - categorical_accuracy: 0.6758 - val_loss: 1.3024 - val_categorical_accuracy: 0.5909 - lr: 4.0000e-04\n",
      "Epoch 33/500\n",
      "14/14 [==============================] - 1s 106ms/step - loss: 0.9765 - categorical_accuracy: 0.6826 - val_loss: 1.2306 - val_categorical_accuracy: 0.7159 - lr: 4.0000e-04\n",
      "Epoch 34/500\n",
      "14/14 [==============================] - 2s 110ms/step - loss: 0.9927 - categorical_accuracy: 0.6941 - val_loss: 1.2298 - val_categorical_accuracy: 0.7159 - lr: 4.0000e-04\n",
      "Epoch 35/500\n",
      "14/14 [==============================] - 1s 107ms/step - loss: 0.9784 - categorical_accuracy: 0.6918 - val_loss: 1.3129 - val_categorical_accuracy: 0.6364 - lr: 4.0000e-04\n",
      "Epoch 36/500\n",
      "14/14 [==============================] - 2s 118ms/step - loss: 0.9563 - categorical_accuracy: 0.6986 - val_loss: 1.2159 - val_categorical_accuracy: 0.7045 - lr: 4.0000e-04\n",
      "Epoch 37/500\n",
      "14/14 [==============================] - 1s 107ms/step - loss: 0.9336 - categorical_accuracy: 0.7192 - val_loss: 1.2249 - val_categorical_accuracy: 0.7045 - lr: 4.0000e-04\n",
      "Epoch 38/500\n",
      "14/14 [==============================] - 1s 107ms/step - loss: 0.9430 - categorical_accuracy: 0.6872 - val_loss: 1.2043 - val_categorical_accuracy: 0.7273 - lr: 4.0000e-04\n",
      "Epoch 39/500\n",
      "14/14 [==============================] - 1s 105ms/step - loss: 0.9548 - categorical_accuracy: 0.6918 - val_loss: 1.2988 - val_categorical_accuracy: 0.5568 - lr: 4.0000e-04\n",
      "Epoch 40/500\n",
      "14/14 [==============================] - 1s 104ms/step - loss: 0.9508 - categorical_accuracy: 0.6918 - val_loss: 1.2667 - val_categorical_accuracy: 0.6136 - lr: 4.0000e-04\n",
      "Epoch 41/500\n",
      "14/14 [==============================] - 1s 107ms/step - loss: 0.9443 - categorical_accuracy: 0.6986 - val_loss: 1.2180 - val_categorical_accuracy: 0.6932 - lr: 4.0000e-04\n",
      "Epoch 42/500\n",
      "14/14 [==============================] - 1s 107ms/step - loss: 0.9558 - categorical_accuracy: 0.6735 - val_loss: 1.2003 - val_categorical_accuracy: 0.7045 - lr: 4.0000e-04\n",
      "Epoch 43/500\n",
      "14/14 [==============================] - 2s 115ms/step - loss: 0.9486 - categorical_accuracy: 0.7100 - val_loss: 1.2637 - val_categorical_accuracy: 0.5909 - lr: 4.0000e-04\n",
      "Epoch 44/500\n",
      "14/14 [==============================] - 1s 106ms/step - loss: 0.9523 - categorical_accuracy: 0.6849 - val_loss: 1.2277 - val_categorical_accuracy: 0.6818 - lr: 4.0000e-04\n",
      "Epoch 45/500\n",
      "14/14 [==============================] - 1s 106ms/step - loss: 0.9366 - categorical_accuracy: 0.7009 - val_loss: 1.1712 - val_categorical_accuracy: 0.7273 - lr: 4.0000e-04\n",
      "Epoch 46/500\n",
      "14/14 [==============================] - 2s 111ms/step - loss: 0.9399 - categorical_accuracy: 0.6941 - val_loss: 1.3008 - val_categorical_accuracy: 0.5909 - lr: 4.0000e-04\n",
      "Epoch 47/500\n",
      "14/14 [==============================] - 1s 107ms/step - loss: 0.9384 - categorical_accuracy: 0.7078 - val_loss: 1.2589 - val_categorical_accuracy: 0.6250 - lr: 4.0000e-04\n",
      "Epoch 48/500\n",
      "14/14 [==============================] - 1s 106ms/step - loss: 0.9455 - categorical_accuracy: 0.6826 - val_loss: 1.2428 - val_categorical_accuracy: 0.6364 - lr: 4.0000e-04\n",
      "Epoch 49/500\n",
      "14/14 [==============================] - 2s 114ms/step - loss: 0.9458 - categorical_accuracy: 0.7055 - val_loss: 1.1925 - val_categorical_accuracy: 0.7045 - lr: 4.0000e-04\n",
      "Epoch 50/500\n",
      "14/14 [==============================] - 1s 104ms/step - loss: 0.9512 - categorical_accuracy: 0.6689 - val_loss: 1.3054 - val_categorical_accuracy: 0.5909 - lr: 4.0000e-04\n",
      "Epoch 51/500\n",
      "14/14 [==============================] - 1s 105ms/step - loss: 0.9340 - categorical_accuracy: 0.6895 - val_loss: 1.2055 - val_categorical_accuracy: 0.6818 - lr: 8.0000e-05\n",
      "Epoch 52/500\n",
      "14/14 [==============================] - 2s 109ms/step - loss: 0.9011 - categorical_accuracy: 0.7078 - val_loss: 1.2003 - val_categorical_accuracy: 0.6705 - lr: 8.0000e-05\n",
      "Epoch 53/500\n",
      "14/14 [==============================] - 1s 106ms/step - loss: 0.9016 - categorical_accuracy: 0.7055 - val_loss: 1.1944 - val_categorical_accuracy: 0.6818 - lr: 8.0000e-05\n",
      "Epoch 54/500\n",
      "14/14 [==============================] - 1s 105ms/step - loss: 0.8985 - categorical_accuracy: 0.7146 - val_loss: 1.1960 - val_categorical_accuracy: 0.6818 - lr: 8.0000e-05\n",
      "Epoch 55/500\n",
      "14/14 [==============================] - 2s 109ms/step - loss: 0.8989 - categorical_accuracy: 0.7123 - val_loss: 1.1989 - val_categorical_accuracy: 0.6591 - lr: 8.0000e-05\n"
     ]
    },
    {
     "data": {
      "text/plain": [
       "<keras.src.callbacks.History at 0x7f9d288ec9a0>"
      ]
     },
     "execution_count": 87,
     "metadata": {},
     "output_type": "execute_result"
    }
   ],
   "source": [
    "lstm.compile(optimizer=opt, loss='categorical_crossentropy', metrics=['categorical_accuracy'])\n",
    "lstm.fit(X_train, y_train, batch_size=batch_size, epochs=max_epochs, validation_data=(X_val, y_val), callbacks=callbacks)"
   ]
  },
  {
   "cell_type": "markdown",
   "id": "8f58c4d8",
   "metadata": {},
   "source": [
    "## 6b. LSTM + Attention"
   ]
  },
  {
   "cell_type": "code",
   "execution_count": 88,
   "id": "c6e12666",
   "metadata": {},
   "outputs": [],
   "source": [
    "# Set up Tensorboard logging and callbacks\n",
    "NAME = f\"ExerciseRecognition-AttnLSTM-{int(time.time())}\"\n",
    "log_dir = os.path.join(os.getcwd(), 'logs', NAME,'')\n",
    "tb_callback = TensorBoard(log_dir=log_dir)\n",
    "\n",
    "callbacks = [tb_callback, es_callback, lr_callback, chkpt_callback]"
   ]
  },
  {
   "cell_type": "code",
   "execution_count": 89,
   "id": "07591dac",
   "metadata": {},
   "outputs": [],
   "source": [
    "def attention_block(inputs, time_steps):\n",
    "    \"\"\"\n",
    "    Attention layer for deep neural network\n",
    "    \n",
    "    \"\"\"\n",
    "    # Attention weights\n",
    "    a = Permute((2, 1))(inputs)\n",
    "    a = Dense(time_steps, activation='softmax')(a)\n",
    "    \n",
    "    # Attention vector\n",
    "    a_probs = Permute((2, 1), name='attention_vec')(a)\n",
    "    \n",
    "    # Luong's multiplicative score\n",
    "    output_attention_mul = multiply([inputs, a_probs], name='attention_mul') \n",
    "    \n",
    "    return output_attention_mul"
   ]
  },
  {
   "cell_type": "code",
   "execution_count": 90,
   "id": "c5c2e2e0",
   "metadata": {},
   "outputs": [
    {
     "name": "stdout",
     "output_type": "stream",
     "text": [
      "Model: \"model\"\n",
      "__________________________________________________________________________________________________\n",
      " Layer (type)                Output Shape                 Param #   Connected to                  \n",
      "==================================================================================================\n",
      " input_1 (InputLayer)        [(None, 29, 132)]            0         []                            \n",
      "                                                                                                  \n",
      " bidirectional (Bidirection  (None, 29, 512)              796672    ['input_1[0][0]']             \n",
      " al)                                                                                              \n",
      "                                                                                                  \n",
      " permute (Permute)           (None, 512, 29)              0         ['bidirectional[0][0]']       \n",
      "                                                                                                  \n",
      " dense_3 (Dense)             (None, 512, 29)              870       ['permute[0][0]']             \n",
      "                                                                                                  \n",
      " attention_vec (Permute)     (None, 29, 512)              0         ['dense_3[0][0]']             \n",
      "                                                                                                  \n",
      " attention_mul (Multiply)    (None, 29, 512)              0         ['bidirectional[0][0]',       \n",
      "                                                                     'attention_vec[0][0]']       \n",
      "                                                                                                  \n",
      " flatten (Flatten)           (None, 14848)                0         ['attention_mul[0][0]']       \n",
      "                                                                                                  \n",
      " dense_4 (Dense)             (None, 512)                  7602688   ['flatten[0][0]']             \n",
      "                                                                                                  \n",
      " dropout (Dropout)           (None, 512)                  0         ['dense_4[0][0]']             \n",
      "                                                                                                  \n",
      " dense_5 (Dense)             (None, 5)                    2565      ['dropout[0][0]']             \n",
      "                                                                                                  \n",
      "==================================================================================================\n",
      "Total params: 8402795 (32.05 MB)\n",
      "Trainable params: 8402795 (32.05 MB)\n",
      "Non-trainable params: 0 (0.00 Byte)\n",
      "__________________________________________________________________________________________________\n",
      "None\n"
     ]
    }
   ],
   "source": [
    "HIDDEN_UNITS = 256\n",
    "\n",
    "# Input\n",
    "inputs = Input(shape=(sequence_length, num_input_values))\n",
    "\n",
    "# Bi-LSTM\n",
    "lstm_out = Bidirectional(LSTM(HIDDEN_UNITS, return_sequences=True))(inputs)\n",
    "\n",
    "# Attention\n",
    "attention_mul = attention_block(lstm_out, sequence_length)\n",
    "attention_mul = Flatten()(attention_mul)\n",
    "\n",
    "# Fully Connected Layer\n",
    "x = Dense(2*HIDDEN_UNITS, activation='relu')(attention_mul)\n",
    "x = Dropout(0.5)(x)\n",
    "\n",
    "# Output\n",
    "x = Dense(actions.shape[0], activation='softmax')(x)\n",
    "\n",
    "# Bring it all together\n",
    "AttnLSTM = Model(inputs=[inputs], outputs=x)\n",
    "print(AttnLSTM.summary())"
   ]
  },
  {
   "cell_type": "code",
   "execution_count": 91,
   "id": "cf2f988d",
   "metadata": {},
   "outputs": [
    {
     "name": "stdout",
     "output_type": "stream",
     "text": [
      "Epoch 1/500\n",
      "14/14 [==============================] - 7s 210ms/step - loss: 1.5718 - categorical_accuracy: 0.4361 - val_loss: 1.5177 - val_categorical_accuracy: 0.7727 - lr: 1.6000e-05\n",
      "Epoch 2/500\n",
      "14/14 [==============================] - 2s 156ms/step - loss: 1.4392 - categorical_accuracy: 0.7306 - val_loss: 1.3444 - val_categorical_accuracy: 0.7500 - lr: 1.6000e-05\n",
      "Epoch 3/500\n",
      "14/14 [==============================] - 2s 158ms/step - loss: 1.2201 - categorical_accuracy: 0.7763 - val_loss: 1.0924 - val_categorical_accuracy: 0.7386 - lr: 1.6000e-05\n",
      "Epoch 4/500\n",
      "14/14 [==============================] - 2s 157ms/step - loss: 0.9541 - categorical_accuracy: 0.7808 - val_loss: 0.8478 - val_categorical_accuracy: 0.7273 - lr: 1.6000e-05\n",
      "Epoch 5/500\n",
      "14/14 [==============================] - 2s 153ms/step - loss: 0.7253 - categorical_accuracy: 0.8356 - val_loss: 0.6492 - val_categorical_accuracy: 0.8636 - lr: 1.6000e-05\n",
      "Epoch 6/500\n",
      "14/14 [==============================] - 2s 156ms/step - loss: 0.5601 - categorical_accuracy: 0.8653 - val_loss: 0.5142 - val_categorical_accuracy: 0.8523 - lr: 1.6000e-05\n",
      "Epoch 7/500\n",
      "14/14 [==============================] - 2s 160ms/step - loss: 0.4301 - categorical_accuracy: 0.9064 - val_loss: 0.4248 - val_categorical_accuracy: 0.8977 - lr: 1.6000e-05\n",
      "Epoch 8/500\n",
      "14/14 [==============================] - 2s 167ms/step - loss: 0.3437 - categorical_accuracy: 0.9178 - val_loss: 0.3655 - val_categorical_accuracy: 0.9205 - lr: 1.6000e-05\n",
      "Epoch 9/500\n",
      "14/14 [==============================] - 2s 152ms/step - loss: 0.2790 - categorical_accuracy: 0.9521 - val_loss: 0.2852 - val_categorical_accuracy: 0.9205 - lr: 1.6000e-05\n",
      "Epoch 10/500\n",
      "14/14 [==============================] - 2s 165ms/step - loss: 0.2268 - categorical_accuracy: 0.9498 - val_loss: 0.2759 - val_categorical_accuracy: 0.9091 - lr: 1.6000e-05\n",
      "Epoch 11/500\n",
      "14/14 [==============================] - 2s 155ms/step - loss: 0.2016 - categorical_accuracy: 0.9498 - val_loss: 0.2419 - val_categorical_accuracy: 0.9318 - lr: 1.6000e-05\n",
      "Epoch 12/500\n",
      "14/14 [==============================] - 2s 156ms/step - loss: 0.1604 - categorical_accuracy: 0.9635 - val_loss: 0.2296 - val_categorical_accuracy: 0.9318 - lr: 1.6000e-05\n",
      "Epoch 13/500\n",
      "14/14 [==============================] - 2s 154ms/step - loss: 0.1503 - categorical_accuracy: 0.9680 - val_loss: 0.2274 - val_categorical_accuracy: 0.9318 - lr: 1.6000e-05\n",
      "Epoch 14/500\n",
      "14/14 [==============================] - 2s 153ms/step - loss: 0.1341 - categorical_accuracy: 0.9680 - val_loss: 0.1973 - val_categorical_accuracy: 0.9318 - lr: 1.6000e-05\n",
      "Epoch 15/500\n",
      "14/14 [==============================] - 2s 154ms/step - loss: 0.1206 - categorical_accuracy: 0.9726 - val_loss: 0.2162 - val_categorical_accuracy: 0.9318 - lr: 1.6000e-05\n",
      "Epoch 16/500\n",
      "14/14 [==============================] - 2s 156ms/step - loss: 0.1114 - categorical_accuracy: 0.9726 - val_loss: 0.1967 - val_categorical_accuracy: 0.9205 - lr: 1.6000e-05\n",
      "Epoch 17/500\n",
      "14/14 [==============================] - 2s 152ms/step - loss: 0.1045 - categorical_accuracy: 0.9703 - val_loss: 0.1968 - val_categorical_accuracy: 0.9432 - lr: 1.6000e-05\n",
      "Epoch 18/500\n",
      "14/14 [==============================] - 2s 153ms/step - loss: 0.1068 - categorical_accuracy: 0.9795 - val_loss: 0.2064 - val_categorical_accuracy: 0.9318 - lr: 1.6000e-05\n",
      "Epoch 19/500\n",
      "14/14 [==============================] - 2s 153ms/step - loss: 0.0908 - categorical_accuracy: 0.9749 - val_loss: 0.1740 - val_categorical_accuracy: 0.9432 - lr: 1.6000e-05\n",
      "Epoch 20/500\n",
      "14/14 [==============================] - 2s 153ms/step - loss: 0.0860 - categorical_accuracy: 0.9772 - val_loss: 0.1802 - val_categorical_accuracy: 0.9205 - lr: 1.6000e-05\n",
      "Epoch 21/500\n",
      "14/14 [==============================] - 2s 151ms/step - loss: 0.0798 - categorical_accuracy: 0.9840 - val_loss: 0.1804 - val_categorical_accuracy: 0.9432 - lr: 1.6000e-05\n",
      "Epoch 22/500\n",
      "14/14 [==============================] - 2s 155ms/step - loss: 0.0708 - categorical_accuracy: 0.9840 - val_loss: 0.1769 - val_categorical_accuracy: 0.9432 - lr: 1.6000e-05\n",
      "Epoch 23/500\n",
      "14/14 [==============================] - 2s 157ms/step - loss: 0.0716 - categorical_accuracy: 0.9840 - val_loss: 0.1698 - val_categorical_accuracy: 0.9545 - lr: 1.6000e-05\n",
      "Epoch 24/500\n",
      "14/14 [==============================] - 3s 183ms/step - loss: 0.0733 - categorical_accuracy: 0.9795 - val_loss: 0.1800 - val_categorical_accuracy: 0.9432 - lr: 1.6000e-05\n",
      "Epoch 25/500\n",
      "14/14 [==============================] - 2s 156ms/step - loss: 0.0621 - categorical_accuracy: 0.9863 - val_loss: 0.1777 - val_categorical_accuracy: 0.9432 - lr: 1.6000e-05\n",
      "Epoch 26/500\n",
      "14/14 [==============================] - 2s 158ms/step - loss: 0.0595 - categorical_accuracy: 0.9886 - val_loss: 0.1807 - val_categorical_accuracy: 0.9432 - lr: 1.6000e-05\n",
      "Epoch 27/500\n",
      "14/14 [==============================] - 2s 159ms/step - loss: 0.0555 - categorical_accuracy: 0.9886 - val_loss: 0.1823 - val_categorical_accuracy: 0.9432 - lr: 1.6000e-05\n",
      "Epoch 28/500\n",
      "14/14 [==============================] - 2s 156ms/step - loss: 0.0540 - categorical_accuracy: 0.9863 - val_loss: 0.1800 - val_categorical_accuracy: 0.9432 - lr: 1.6000e-05\n",
      "Epoch 29/500\n",
      "14/14 [==============================] - 2s 151ms/step - loss: 0.0544 - categorical_accuracy: 0.9909 - val_loss: 0.1851 - val_categorical_accuracy: 0.9432 - lr: 1.0000e-05\n",
      "Epoch 30/500\n",
      "14/14 [==============================] - 2s 153ms/step - loss: 0.0487 - categorical_accuracy: 0.9886 - val_loss: 0.1754 - val_categorical_accuracy: 0.9432 - lr: 1.0000e-05\n",
      "Epoch 31/500\n",
      "14/14 [==============================] - 2s 152ms/step - loss: 0.0469 - categorical_accuracy: 0.9909 - val_loss: 0.1831 - val_categorical_accuracy: 0.9432 - lr: 1.0000e-05\n",
      "Epoch 32/500\n",
      "14/14 [==============================] - 2s 165ms/step - loss: 0.0446 - categorical_accuracy: 0.9954 - val_loss: 0.1790 - val_categorical_accuracy: 0.9432 - lr: 1.0000e-05\n",
      "Epoch 33/500\n",
      "14/14 [==============================] - 2s 157ms/step - loss: 0.0435 - categorical_accuracy: 0.9909 - val_loss: 0.1808 - val_categorical_accuracy: 0.9432 - lr: 1.0000e-05\n"
     ]
    },
    {
     "data": {
      "text/plain": [
       "<keras.src.callbacks.History at 0x7f9d17ae0160>"
      ]
     },
     "execution_count": 91,
     "metadata": {},
     "output_type": "execute_result"
    }
   ],
   "source": [
    "AttnLSTM.compile(optimizer=opt, loss='categorical_crossentropy', metrics=['categorical_accuracy'])\n",
    "AttnLSTM.fit(X_train, y_train, batch_size=batch_size, epochs=max_epochs, validation_data=(X_val, y_val), callbacks=callbacks)"
   ]
  },
  {
   "cell_type": "code",
   "execution_count": 92,
   "id": "b89f67cf",
   "metadata": {},
   "outputs": [],
   "source": [
    "# Model map\n",
    "models = {\n",
    "    'LSTM_new': lstm, \n",
    "    'LSTM_Attention_new': AttnLSTM, \n",
    "}"
   ]
  },
  {
   "cell_type": "markdown",
   "id": "a928f612",
   "metadata": {},
   "source": [
    "# 7a. Save Weights"
   ]
  },
  {
   "cell_type": "code",
   "execution_count": 93,
   "id": "0a7647ad",
   "metadata": {},
   "outputs": [
    {
     "name": "stderr",
     "output_type": "stream",
     "text": [
      "/Users/tsaiajay/anaconda3/envs/myenv/lib/python3.8/site-packages/keras/src/engine/training.py:3000: UserWarning: You are saving your model as an HDF5 file via `model.save()`. This file format is considered legacy. We recommend using instead the native Keras format, e.g. `model.save('my_model.keras')`.\n",
      "  saving_api.save_model(\n"
     ]
    }
   ],
   "source": [
    "for model_name, model in models.items():\n",
    "    save_dir = os.path.join(os.getcwd(), f\"{model_name}.h5\")\n",
    "    model.save(save_dir)"
   ]
  },
  {
   "cell_type": "markdown",
   "id": "13fecf26",
   "metadata": {},
   "source": [
    "# 7b. Load Weights"
   ]
  },
  {
   "cell_type": "code",
   "execution_count": 94,
   "id": "ed0114a6",
   "metadata": {},
   "outputs": [],
   "source": [
    "# Run model rebuild before doing this\n",
    "for model_name, model in models.items():\n",
    "    load_dir = os.path.join(os.getcwd(), f\"{model_name}.h5\")\n",
    "    model.load_weights(load_dir)"
   ]
  },
  {
   "cell_type": "markdown",
   "id": "1b7747c6",
   "metadata": {},
   "source": [
    "# 8. Make Predictions"
   ]
  },
  {
   "cell_type": "code",
   "execution_count": 95,
   "id": "2101a592",
   "metadata": {},
   "outputs": [],
   "source": [
    "for model in models.values():\n",
    "    res = model.predict(X_test, verbose=0)   "
   ]
  },
  {
   "cell_type": "markdown",
   "id": "6b36c98e",
   "metadata": {},
   "source": [
    "# 9. Evaluations using Confusion Matrix and Accuracy"
   ]
  },
  {
   "cell_type": "code",
   "execution_count": 96,
   "id": "ecf242d9",
   "metadata": {},
   "outputs": [],
   "source": [
    "eval_results = {}\n",
    "eval_results['confusion matrix'] = None\n",
    "eval_results['accuracy'] = None\n",
    "eval_results['precision'] = None\n",
    "eval_results['recall'] = None\n",
    "eval_results['f1 score'] = None\n",
    "\n",
    "confusion_matrices = {}\n",
    "classification_accuracies = {}   \n",
    "precisions = {}\n",
    "recalls = {}\n",
    "f1_scores = {} "
   ]
  },
  {
   "cell_type": "markdown",
   "id": "74d6778f",
   "metadata": {},
   "source": [
    "## 9a. Confusion Matrices"
   ]
  },
  {
   "cell_type": "code",
   "execution_count": 97,
   "id": "fccbb90f",
   "metadata": {},
   "outputs": [
    {
     "name": "stdout",
     "output_type": "stream",
     "text": [
      "LSTM_new confusion matrix: \n",
      "[[[45  1]\n",
      "  [ 1 12]]\n",
      "\n",
      " [[49  1]\n",
      "  [ 2  7]]\n",
      "\n",
      " [[46  7]\n",
      "  [ 1  5]]\n",
      "\n",
      " [[42  1]\n",
      "  [ 3 13]]\n",
      "\n",
      " [[43  1]\n",
      "  [ 4 11]]]\n",
      "LSTM_Attention_new confusion matrix: \n",
      "[[[45  1]\n",
      "  [ 1 12]]\n",
      "\n",
      " [[50  0]\n",
      "  [ 0  9]]\n",
      "\n",
      " [[51  2]\n",
      "  [ 2  4]]\n",
      "\n",
      " [[43  0]\n",
      "  [ 0 16]]\n",
      "\n",
      " [[42  2]\n",
      "  [ 2 13]]]\n"
     ]
    }
   ],
   "source": [
    "for model_name, model in models.items():\n",
    "    yhat = model.predict(X_test, verbose=0)\n",
    "    \n",
    "    # Get list of classification predictions\n",
    "    ytrue = np.argmax(y_test, axis=1).tolist()\n",
    "    yhat = np.argmax(yhat, axis=1).tolist()\n",
    "    \n",
    "    # Confusion matrix\n",
    "    confusion_matrices[model_name] = multilabel_confusion_matrix(ytrue, yhat)\n",
    "    print(f\"{model_name} confusion matrix: {os.linesep}{confusion_matrices[model_name]}\")\n",
    "\n",
    "# Collect results \n",
    "eval_results['confusion matrix'] = confusion_matrices"
   ]
  },
  {
   "cell_type": "markdown",
   "id": "b76c6dc5",
   "metadata": {},
   "source": [
    "## 9b. Accuracy"
   ]
  },
  {
   "cell_type": "code",
   "execution_count": 29,
   "id": "e36146f5",
   "metadata": {},
   "outputs": [
    {
     "name": "stdout",
     "output_type": "stream",
     "text": [
      "LSTM_new classification accuracy = 20.69%\n",
      "LSTM_Attention_new classification accuracy = 100.0%\n"
     ]
    }
   ],
   "source": [
    "for model_name, model in models.items():\n",
    "    yhat = model.predict(X_test, verbose=0)\n",
    "    \n",
    "    # Get list of classification predictions\n",
    "    ytrue = np.argmax(y_test, axis=1).tolist()\n",
    "    yhat = np.argmax(yhat, axis=1).tolist()\n",
    "    \n",
    "    # Model accuracy\n",
    "    classification_accuracies[model_name] = accuracy_score(ytrue, yhat)    \n",
    "    print(f\"{model_name} classification accuracy = {round(classification_accuracies[model_name]*100,3)}%\")\n",
    "\n",
    "# Collect results \n",
    "eval_results['accuracy'] = classification_accuracies"
   ]
  },
  {
   "cell_type": "markdown",
   "id": "33efa73a",
   "metadata": {},
   "source": [
    "## 9c. Precision, Recall, and F1 Score"
   ]
  },
  {
   "cell_type": "code",
   "execution_count": 98,
   "id": "35067c48",
   "metadata": {},
   "outputs": [
    {
     "name": "stdout",
     "output_type": "stream",
     "text": [
      "(59, 5)\n",
      "[0, 4, 3, 0, 3, 2, 0, 2, 0, 0, 3, 2, 3, 3, 4, 0, 2, 4, 4, 2, 4, 4, 2, 3, 0, 4, 3, 0, 3, 3, 0, 3, 1, 2, 3, 3, 2, 4, 1, 0, 1, 1, 0, 3, 1, 1, 0, 0, 4, 2, 4, 2, 4, 4, 2, 2, 1, 1, 3]\n",
      "LSTM_new weighted average precision = 0.864\n",
      "LSTM_new weighted average recall = 0.814\n",
      "LSTM_new weighted average f1-score = 0.828\n",
      "\n",
      "(59, 5)\n",
      "[0, 4, 4, 0, 3, 2, 0, 1, 2, 0, 3, 1, 3, 3, 4, 0, 3, 4, 4, 4, 4, 4, 4, 3, 0, 4, 3, 0, 3, 3, 0, 3, 0, 2, 3, 3, 3, 4, 1, 0, 1, 1, 0, 3, 1, 1, 2, 0, 4, 4, 0, 2, 3, 4, 2, 4, 1, 1, 3]\n",
      "LSTM_Attention_new weighted average precision = 0.915\n",
      "LSTM_Attention_new weighted average recall = 0.915\n",
      "LSTM_Attention_new weighted average f1-score = 0.915\n",
      "\n"
     ]
    }
   ],
   "source": [
    "for model_name, model in models.items():\n",
    "    yhat = model.predict(X_test, verbose=0)\n",
    "    \n",
    "    # Get list of classification predictions\n",
    "    ytrue = np.argmax(y_test, axis=1).tolist()\n",
    "    yhat = np.argmax(yhat, axis=1).tolist()\n",
    "    \n",
    "    print(y_test.shape)\n",
    "    print(yhat)\n",
    "\n",
    "    # Precision, recall, and f1 score\n",
    "    report = classification_report(ytrue, yhat, target_names=actions, output_dict=True)\n",
    "    \n",
    "    precisions[model_name] = report['weighted avg']['precision']\n",
    "    recalls[model_name] = report['weighted avg']['recall']\n",
    "    f1_scores[model_name] = report['weighted avg']['f1-score'] \n",
    "   \n",
    "    print(f\"{model_name} weighted average precision = {round(precisions[model_name],3)}\")\n",
    "    print(f\"{model_name} weighted average recall = {round(recalls[model_name],3)}\")\n",
    "    print(f\"{model_name} weighted average f1-score = {round(f1_scores[model_name],3)}\\n\")\n",
    "\n",
    "# Collect results \n",
    "eval_results['precision'] = precisions\n",
    "eval_results['recall'] = recalls\n",
    "eval_results['f1 score'] = f1_scores"
   ]
  },
  {
   "cell_type": "markdown",
   "id": "e5d39476",
   "metadata": {},
   "source": [
    "# 10. Choose Model to Test in Real Time"
   ]
  },
  {
   "cell_type": "code",
   "execution_count": 99,
   "id": "d72d0605",
   "metadata": {},
   "outputs": [],
   "source": [
    "model = AttnLSTM\n",
    "model_name = 'AttnLSTM'"
   ]
  },
  {
   "cell_type": "markdown",
   "id": "9f0015ce",
   "metadata": {},
   "source": [
    "# 11. Calculate Joint Angles & Count Reps"
   ]
  },
  {
   "cell_type": "code",
   "execution_count": 100,
   "id": "f172932f",
   "metadata": {},
   "outputs": [],
   "source": [
    "def calculate_angle(a,b,c):\n",
    "    \"\"\"\n",
    "    Computes 3D joint angle inferred by 3 keypoints and their relative positions to one another\n",
    "    \n",
    "    \"\"\"\n",
    "    a = np.array(a) # First\n",
    "    b = np.array(b) # Mid\n",
    "    c = np.array(c) # End\n",
    "    \n",
    "    radians = np.arctan2(c[1]-b[1], c[0]-b[0]) - np.arctan2(a[1]-b[1], a[0]-b[0])\n",
    "    angle = np.abs(radians*180.0/np.pi)\n",
    "    \n",
    "    if angle >180.0:\n",
    "        angle = 360-angle\n",
    "        \n",
    "    return angle "
   ]
  },
  {
   "cell_type": "code",
   "execution_count": 102,
   "id": "26f357fe",
   "metadata": {},
   "outputs": [],
   "source": [
    "def get_coordinates(landmarks, mp_pose, side, joint):\n",
    "    \"\"\"\n",
    "    Retrieves x and y coordinates of a particular keypoint from the pose estimation model\n",
    "         \n",
    "     Args:\n",
    "         landmarks: processed keypoints from the pose estimation model\n",
    "         mp_pose: Mediapipe pose estimation model\n",
    "         side: 'left' or 'right'. Denotes the side of the body of the landmark of interest.\n",
    "         joint: 'shoulder', 'elbow', 'wrist', 'hip', 'knee', or 'ankle'. Denotes which body joint is associated with the landmark of interest.\n",
    "    \n",
    "    \"\"\"\n",
    "    coord = getattr(mp_pose.PoseLandmark,side.upper()+\"_\"+joint.upper())\n",
    "    x_coord_val = landmarks[coord.value].x\n",
    "    y_coord_val = landmarks[coord.value].y\n",
    "    return [x_coord_val, y_coord_val]            "
   ]
  },
  {
   "cell_type": "code",
   "execution_count": 101,
   "id": "f11273cf",
   "metadata": {},
   "outputs": [],
   "source": [
    "def viz_joint_angle(image, angle, joint):\n",
    "    \"\"\"\n",
    "    Displays the joint angle value near the joint within the image frame\n",
    "    \n",
    "    \"\"\"\n",
    "    cv2.putText(image, str(int(angle)), \n",
    "                   tuple(np.multiply(joint, [640, 480]).astype(int)), \n",
    "                   cv2.FONT_HERSHEY_SIMPLEX, 0.5, (255, 255, 255), 2, cv2.LINE_AA\n",
    "                        )\n",
    "    return"
   ]
  },
  {
   "cell_type": "code",
   "execution_count": 122,
   "id": "b64050d3",
   "metadata": {},
   "outputs": [],
   "source": [
    "def count_reps(image, current_action, landmarks, mp_pose):\n",
    "    \"\"\"\n",
    "    Counts repetitions of each exercise. Global count and stage (i.e., state) variables are updated within this function.\n",
    "    \n",
    "    \"\"\"\n",
    "\n",
    "    global curl_counter, press_counter, squat_counter,butbrdige_counter,leglift_counter, curl_stage, press_stage, squat_stage, butbrdige_stage, leglift_stage,r_leglift_stage,l_butbrdige_stage\n",
    "\n",
    "    if current_action == 'butbrdige':\n",
    "        shoulder_l = get_coordinates(landmarks, mp_pose, 'left', 'shoulder')\n",
    "        hip_l = get_coordinates(landmarks, mp_pose, 'left', 'hip')\n",
    "        knee_l = get_coordinates(landmarks, mp_pose, 'left', 'knee')\n",
    "\n",
    "        shoulder_r = get_coordinates(landmarks, mp_pose, 'right', 'shoulder')\n",
    "        hip_r = get_coordinates(landmarks, mp_pose, 'right', 'hip')\n",
    "        knee_r = get_coordinates(landmarks, mp_pose, 'right', 'knee')\n",
    "\n",
    "        angle_left = calculate_angle(shoulder_l,hip_l,knee_l)\n",
    "        angle_right = calculate_angle(knee_r,hip_r,shoulder_r)\n",
    "        \n",
    "        # if (angle_right <180 and angle_right > 170):\n",
    "        #     butbrdige_stage=\"up\"\n",
    "        #     print(butbrdige_stage,\"right\")\n",
    "        # if (angle_right <160 and butbrdige_stage==\"up\"):\n",
    "        #     print(\"ddddddd_right\",butbrdige_stage)\n",
    "        #     butbrdige_stage=\"down\"\n",
    "        #     butbrdige_counter+=1\n",
    "\n",
    "        if(angle_left <180 and angle_left > 170) :\n",
    "            l_butbrdige_stage=\"up\"\n",
    "            print(l_butbrdige_stage,\"Left\")\n",
    "        if(angle_left <160 and l_butbrdige_stage==\"up\"):\n",
    "            print(\"ddddddd_left\",l_butbrdige_stage)\n",
    "            l_butbrdige_stage=\"down\"\n",
    "            butbrdige_counter+=1\n",
    "\n",
    "        press_stage = None\n",
    "        squat_stage = None\n",
    "        curl_stage=None\n",
    "        leglift_stage=None\n",
    "        r_leglift_stage=None\n",
    "\n",
    "        \n",
    "        viz_joint_angle(image, angle_right, hip_r)\n",
    "\n",
    "    elif current_action == 'leglift':\n",
    "\n",
    "        shoulder_l = get_coordinates(landmarks, mp_pose, 'left', 'shoulder')\n",
    "        hip_l = get_coordinates(landmarks, mp_pose, 'left', 'hip')\n",
    "        knee_l = get_coordinates(landmarks, mp_pose, 'left', 'knee')\n",
    "        ankle_l = get_coordinates(landmarks, mp_pose, 'left', 'ankle')\n",
    "\n",
    "        shoulder_r = get_coordinates(landmarks, mp_pose, 'right', 'shoulder')\n",
    "        hip_r = get_coordinates(landmarks, mp_pose, 'right', 'hip')\n",
    "        knee_r = get_coordinates(landmarks, mp_pose, 'right', 'knee')\n",
    "        ankle_r = get_coordinates(landmarks, mp_pose, 'right', 'ankle')\n",
    "\n",
    "        hip_angle_left = calculate_angle(shoulder_l,hip_l,knee_l)\n",
    "        hip_angle_right = calculate_angle(shoulder_r,hip_r,knee_r)\n",
    "\n",
    "        knee_angle_left = calculate_angle(hip_l,knee_l,ankle_l)\n",
    "        knee_angle_right = calculate_angle(hip_r,knee_r,ankle_r)\n",
    "        \n",
    "        d_hip_angle_left = calculate_angle(shoulder_l,hip_l,ankle_l)\n",
    "        d_hip_angle_right = calculate_angle(shoulder_r,hip_r,ankle_r)\n",
    "        # print(\"hip_angle_left\",hip_angle_left)\n",
    "        # print(\"knee_angle_left\",knee_angle_left)\n",
    "\n",
    "        if (hip_angle_left<100 and hip_angle_left > 70) and (knee_angle_left> 40 and knee_angle_left < 90):\n",
    "            leglift_stage = \"up\" \n",
    "            # print(leglift_stage)\n",
    "            # print(\"hip_angle_left\",hip_angle_left)\n",
    "            # print(\"knee_angle_left\",knee_angle_left)\n",
    "        if d_hip_angle_left>170 and leglift_stage == \"up\" :\n",
    "            leglift_stage=\"down\"\n",
    "            leglift_counter +=1\n",
    "\n",
    "        if (hip_angle_right<100 and hip_angle_right > 70) and (knee_angle_right> 40 and knee_angle_right < 90):\n",
    "            r_leglift_stage = \"up\" \n",
    "            viz_joint_angle(image, hip_angle_right, hip_r)\n",
    "            viz_joint_angle(image, knee_angle_right, knee_r)\n",
    "        if d_hip_angle_right>170 and r_leglift_stage == \"up\" :\n",
    "            r_leglift_stage=\"down\"\n",
    "            leglift_counter +=1\n",
    "\n",
    "        \n",
    "        butbrdige_stage=None\n",
    "        press_stage = None\n",
    "        squat_stage = None\n",
    "        curl_stage = None\n",
    "        l_butbrdige_stage =None\n",
    "    \n",
    "    elif current_action == 'curl':\n",
    "        # Get coords\n",
    "        shoulder_l = get_coordinates(landmarks, mp_pose, 'left', 'shoulder')\n",
    "        elbow_l = get_coordinates(landmarks, mp_pose, 'left', 'elbow')\n",
    "        wrist_l = get_coordinates(landmarks, mp_pose, 'left', 'wrist')\n",
    "\n",
    "        shoulder_r = get_coordinates(landmarks, mp_pose, 'right', 'shoulder')\n",
    "        elbow_r = get_coordinates(landmarks, mp_pose, 'right', 'elbow')\n",
    "        wrist_r = get_coordinates(landmarks, mp_pose, 'right', 'wrist')\n",
    "        \n",
    "        # calculate elbow angle\n",
    "        elbow_angle_l = calculate_angle(shoulder_l, elbow_l, wrist_l)\n",
    "        elbow_angle_r = calculate_angle(shoulder_r, elbow_r, wrist_r)\n",
    "        \n",
    "        # curl counter logic\n",
    "        if elbow_angle_l < 30 and elbow_angle_r<30:\n",
    "            curl_stage = \"up\" \n",
    "        if elbow_angle_l > 160 and elbow_angle_r>160 and curl_stage =='up':\n",
    "            curl_stage=\"down\"  \n",
    "            curl_counter +=1\n",
    "\n",
    "        butbrdige_stage=None\n",
    "        press_stage = None\n",
    "        squat_stage = None\n",
    "        leglift_stage=None\n",
    "        r_leglift_stage=None\n",
    "        l_butbrdige_stage =None\n",
    "            \n",
    "        # Viz joint angle\n",
    "        viz_joint_angle(image, elbow_angle_l, elbow_l)\n",
    "        viz_joint_angle(image, elbow_angle_r, elbow_r)\n",
    "        \n",
    "    elif current_action == 'press':\n",
    "        \n",
    "        # Get coords\n",
    "        shoulder_l = get_coordinates(landmarks, mp_pose, 'left', 'shoulder')\n",
    "        elbow_l = get_coordinates(landmarks, mp_pose, 'left', 'elbow')\n",
    "        wrist_l = get_coordinates(landmarks, mp_pose, 'left', 'wrist')\n",
    "\n",
    "        shoulder_r = get_coordinates(landmarks, mp_pose, 'right', 'shoulder')\n",
    "        elbow_r = get_coordinates(landmarks, mp_pose, 'right', 'elbow')\n",
    "        wrist_r = get_coordinates(landmarks, mp_pose, 'right', 'wrist')\n",
    "\n",
    "        # Calculate elbow angle\n",
    "        elbow_angle_l = calculate_angle(shoulder_l, elbow_l, wrist_l)\n",
    "        elbow_angle_r = calculate_angle(shoulder_r, elbow_r, wrist_r)\n",
    "        \n",
    "        # Compute distances between joints\n",
    "       # shoulder2elbow_dist = abs(math.dist(shoulder,elbow))\n",
    "        #shoulder2wrist_dist = abs(math.dist(shoulder,wrist))\n",
    "        \n",
    "        # Press counter logic\n",
    "        #if (elbow_angle > 140) and (shoulder2elbow_dist < shoulder2wrist_dist):\n",
    "        if (elbow_angle_l > 140) and (elbow_angle_l > 140) :\n",
    "            press_stage = \"up\"\n",
    "        #if (elbow_angle < 50) and (shoulder2elbow_dist > shoulder2wrist_dist) and (press_stage =='up')\n",
    "        if (elbow_angle_l< 50 and press_stage =='up') and (elbow_angle_r< 50 and press_stage =='up'):\n",
    "            press_stage='down'\n",
    "            press_counter += 1\n",
    "        butbrdige_stage=None\n",
    "        curl_stage = None\n",
    "        squat_stage = None\n",
    "        leglift_stage=None\n",
    "        r_leglift_stage=None\n",
    "        l_butbrdige_stage =None\n",
    "            \n",
    "        viz_joint_angle(image, elbow_angle_l, elbow_l)\n",
    "        viz_joint_angle(image, elbow_angle_r, elbow_r)\n",
    "        \n",
    "    elif current_action == 'squat':\n",
    "        # Get coords\n",
    "        # left side\n",
    "        left_shoulder = get_coordinates(landmarks, mp_pose, 'left', 'shoulder')\n",
    "        left_hip = get_coordinates(landmarks, mp_pose, 'left', 'hip')\n",
    "        left_knee = get_coordinates(landmarks, mp_pose, 'left', 'knee')\n",
    "        left_ankle = get_coordinates(landmarks, mp_pose, 'left', 'ankle')\n",
    "        # right side\n",
    "        right_shoulder = get_coordinates(landmarks, mp_pose, 'right', 'shoulder')\n",
    "        right_hip = get_coordinates(landmarks, mp_pose, 'right', 'hip')\n",
    "        right_knee = get_coordinates(landmarks, mp_pose, 'right', 'knee')\n",
    "        right_ankle = get_coordinates(landmarks, mp_pose, 'right', 'ankle')\n",
    "        \n",
    "        # Calculate knee angles\n",
    "        left_knee_angle = calculate_angle(left_hip, left_knee, left_ankle)\n",
    "        right_knee_angle = calculate_angle(right_hip, right_knee, right_ankle)\n",
    "        \n",
    "        # Calculate hip angles\n",
    "        left_hip_angle = calculate_angle(left_shoulder, left_hip, left_knee)\n",
    "        right_hip_angle = calculate_angle(right_shoulder, right_hip, right_knee)\n",
    "        \n",
    "        # Squat counter logic\n",
    "        thr = 165\n",
    "        if (left_knee_angle < thr) and (right_knee_angle < thr) and (left_hip_angle < thr) and (right_hip_angle < thr):\n",
    "            squat_stage = \"down\"\n",
    "        if (left_knee_angle > thr) and (right_knee_angle > thr) and (left_hip_angle > thr) and (right_hip_angle > thr) and (squat_stage =='down'):\n",
    "            squat_stage='up'\n",
    "            squat_counter += 1\n",
    "            \n",
    "        butbrdige_stage=None\n",
    "        curl_stage = None\n",
    "        press_stage = None\n",
    "        leglift_stage=None\n",
    "        r_leglift_stage=None\n",
    "        l_butbrdige_stage =None\n",
    "            \n",
    "        # Viz joint angles\n",
    "        viz_joint_angle(image, left_knee_angle, left_knee)\n",
    "        viz_joint_angle(image, left_hip_angle, left_hip)\n",
    "        \n",
    "    else:\n",
    "        pass"
   ]
  },
  {
   "cell_type": "markdown",
   "id": "a5116ef6",
   "metadata": {},
   "source": [
    "# 12. Test in Real Time"
   ]
  },
  {
   "cell_type": "code",
   "execution_count": 123,
   "id": "4775b75e",
   "metadata": {},
   "outputs": [],
   "source": [
    "def prob_viz(res, actions, input_frame, colors):\n",
    "    \"\"\"\n",
    "    This function displays the model prediction probability distribution over the set of exercise classes\n",
    "    as a horizontal bar graph\n",
    "    \n",
    "    \"\"\"\n",
    "    output_frame = input_frame.copy()\n",
    "    for num, prob in enumerate(res):        \n",
    "        cv2.rectangle(output_frame, (0,60+num*40), (int(prob*100), 90+num*40), colors[num], -1)\n",
    "        cv2.putText(output_frame, actions[num], (0, 85+num*40), cv2.FONT_HERSHEY_SIMPLEX, 1, (0,0,0), 2, cv2.LINE_AA)\n",
    "        \n",
    "    return output_frame"
   ]
  },
  {
   "cell_type": "code",
   "execution_count": 124,
   "id": "6332bf1a",
   "metadata": {},
   "outputs": [
    {
     "name": "stdout",
     "output_type": "stream",
     "text": [
      "up Left\n",
      "up Left\n",
      "up Left\n",
      "up Left\n",
      "up Left\n",
      "up Left\n",
      "up Left\n",
      "ddddddd_left up\n",
      "up Left\n",
      "up Left\n",
      "up Left\n",
      "up Left\n",
      "ddddddd_left up\n",
      "up Left\n",
      "up Left\n",
      "up Left\n",
      "up Left\n",
      "ddddddd_left up\n",
      "up Left\n",
      "up Left\n",
      "up Left\n",
      "up Left\n",
      "up Left\n",
      "ddddddd_left up\n",
      "up Left\n",
      "up Left\n",
      "up Left\n",
      "up Left\n",
      "up Left\n",
      "up Left\n",
      "up Left\n",
      "ddddddd_left up\n"
     ]
    },
    {
     "ename": "",
     "evalue": "",
     "output_type": "error",
     "traceback": [
      "\u001b[1;31mThe Kernel crashed while executing code in the current cell or a previous cell. \n",
      "\u001b[1;31mPlease review the code in the cell(s) to identify a possible cause of the failure. \n",
      "\u001b[1;31mClick <a href='https://aka.ms/vscodeJupyterKernelCrash'>here</a> for more info. \n",
      "\u001b[1;31mView Jupyter <a href='command:jupyter.viewOutput'>log</a> for further details."
     ]
    }
   ],
   "source": [
    "# 1. New detection variables\n",
    "sequence = []\n",
    "predictions = []\n",
    "res = []\n",
    "threshold = 0.5 # minimum confidence to classify as an action/exerciseq\n",
    "current_action = ''\n",
    "\n",
    "# Rep counter logic variables\n",
    "curl_counter = 0\n",
    "press_counter = 0\n",
    "squat_counter = 0\n",
    "butbrdige_counter=0\n",
    "leglift_counter=0\n",
    "\n",
    "curl_stage = None\n",
    "press_stage = None\n",
    "squat_stage = None\n",
    "butbrdige_stage= None\n",
    "leglift_stage=None\n",
    "l_butbrdige_stage=None\n",
    "\n",
    "# Camera object\n",
    "cap = cv2.VideoCapture(0)\n",
    "\n",
    "# Video writer object that saves a video of the real time test\n",
    "fourcc = cv2.VideoWriter_fourcc('M','J','P','G') # video compression format\n",
    "HEIGHT = int(cap.get(cv2.CAP_PROP_FRAME_HEIGHT)) # webcam video frame height\n",
    "WIDTH = int(cap.get(cv2.CAP_PROP_FRAME_WIDTH)) # webcam video frame width\n",
    "FPS = int(cap.get(cv2.CAP_PROP_FPS)) # webcam video fram rate \n",
    "\n",
    "video_name = os.path.join(os.getcwd(),f\"{model_name}_real_time_test.avi\")\n",
    "out = cv2.VideoWriter(video_name, cv2.VideoWriter_fourcc(*\"MJPG\"), FPS, (WIDTH,HEIGHT))\n",
    "\n",
    "# Set mediapipe model \n",
    "with mp_pose.Pose(min_detection_confidence=0.5, min_tracking_confidence=0.5) as pose:\n",
    "    while cap.isOpened():\n",
    "\n",
    "        # Read feed\n",
    "        ret, frame = cap.read()\n",
    "\n",
    "        # Make detection\n",
    "        image, results = mediapipe_detection(frame, pose)\n",
    "        \n",
    "        # Draw landmarks\n",
    "        draw_landmarks(image, results)\n",
    "        \n",
    "        # 2. Prediction logic\n",
    "        keypoints = extract_keypoints(results)        \n",
    "        sequence.append(keypoints)      \n",
    "        sequence = sequence[-sequence_length:]\n",
    "              \n",
    "        if len(sequence) == sequence_length:\n",
    "            res = model.predict(np.expand_dims(sequence, axis=0), verbose=0)[0]           \n",
    "            predictions.append(np.argmax(res))\n",
    "            current_action = actions[np.argmax(res)]\n",
    "            confidence = np.max(res)\n",
    "            \n",
    "        #3. Viz logic\n",
    "            # Erase current action variable if no probability is above threshold\n",
    "            if confidence < threshold:\n",
    "                current_action = ''\n",
    "\n",
    "            # Viz probabilities\n",
    "            image = prob_viz(res, actions, image, colors)\n",
    "            \n",
    "            # Count reps\n",
    "            try:\n",
    "                landmarks = results.pose_landmarks.landmark\n",
    "                count_reps(\n",
    "                    image, current_action, landmarks, mp_pose)\n",
    "            except:\n",
    "                pass\n",
    "\n",
    "            # Display graphical information\n",
    "            cv2.rectangle(image, (0,0), (1400, 40), colors[np.argmax(res)], -1)\n",
    "            cv2.putText(image, 'curl ' + str(curl_counter), (5,30), \n",
    "                           cv2.FONT_HERSHEY_SIMPLEX, 1, (0, 0, 0), 2, cv2.LINE_AA)\n",
    "            cv2.putText(image, 'press ' + str(press_counter), (225,30), \n",
    "                           cv2.FONT_HERSHEY_SIMPLEX, 1, (0, 0, 0), 2, cv2.LINE_AA)\n",
    "            cv2.putText(image, 'squat ' + str(squat_counter), (450,30), \n",
    "                           cv2.FONT_HERSHEY_SIMPLEX, 1, (0, 0, 0), 2, cv2.LINE_AA)\n",
    "            cv2.putText(image, 'butbrdige ' + str(butbrdige_counter), (625,30), \n",
    "                           cv2.FONT_HERSHEY_SIMPLEX, 1, (0, 0, 0), 2, cv2.LINE_AA)\n",
    "            cv2.putText(image, 'leglift ' + str(leglift_counter), (825,30), \n",
    "                           cv2.FONT_HERSHEY_SIMPLEX, 1, (0, 0, 0), 2, cv2.LINE_AA)\n",
    "            \n",
    "         \n",
    "        # Show to screen\n",
    "        cv2.imshow('OpenCV Feed', image)\n",
    "        \n",
    "        # Write to video file\n",
    "        if ret == True:\n",
    "            out.write(image)\n",
    "\n",
    "        # Break gracefully\n",
    "        if cv2.waitKey(10) & 0xFF == ord('q'):\n",
    "            break\n",
    "    cap.release()\n",
    "    out.release()\n",
    "    cv2.destroyAllWindows()"
   ]
  },
  {
   "cell_type": "code",
   "execution_count": 62,
   "id": "af9980a1",
   "metadata": {},
   "outputs": [
    {
     "ename": "",
     "evalue": "",
     "output_type": "error",
     "traceback": [
      "\u001b[1;31mThe Kernel crashed while executing code in the current cell or a previous cell. \n",
      "\u001b[1;31mPlease review the code in the cell(s) to identify a possible cause of the failure. \n",
      "\u001b[1;31mClick <a href='https://aka.ms/vscodeJupyterKernelCrash'>here</a> for more info. \n",
      "\u001b[1;31mView Jupyter <a href='command:jupyter.viewOutput'>log</a> for further details."
     ]
    }
   ],
   "source": [
    "cap.release()\n",
    "out.release()\n",
    "cv2.destroyAllWindows()"
   ]
  }
 ],
 "metadata": {
  "kernelspec": {
   "display_name": "Python 3.8.13 ('AItrainer')",
   "language": "python",
   "name": "python3"
  },
  "language_info": {
   "codemirror_mode": {
    "name": "ipython",
    "version": 3
   },
   "file_extension": ".py",
   "mimetype": "text/x-python",
   "name": "python",
   "nbconvert_exporter": "python",
   "pygments_lexer": "ipython3",
   "version": "3.8.19"
  },
  "vscode": {
   "interpreter": {
    "hash": "80aa1d3f3a8cfb37a38c47373cc49a39149184c5fa770d709389b1b8782c1d85"
   }
  }
 },
 "nbformat": 4,
 "nbformat_minor": 5
}
